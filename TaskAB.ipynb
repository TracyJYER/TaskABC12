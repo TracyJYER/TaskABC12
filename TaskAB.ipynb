{
 "cells": [
  {
   "cell_type": "code",
   "execution_count": null,
   "metadata": {},
   "outputs": [],
   "source": [
    "import json as js\n",
    "import hashlib as hs\n",
    "from datetime import datetime as dt\n"
   ]
  },
  {
   "cell_type": "code",
   "execution_count": null,
   "metadata": {},
   "outputs": [],
   "source": [
    "#read in data\n",
    "jsonFilePath = r'./Fin_Decision_LLM_Human.json'\n",
    "with open(jsonFilePath) as json_file:\n",
    "    json_data = js.load(json_file)"
   ]
  },
  {
   "cell_type": "code",
   "execution_count": null,
   "metadata": {},
   "outputs": [
    {
     "name": "stdout",
     "output_type": "stream",
     "text": [
      "Number of loans application is 3433\n"
     ]
    }
   ],
   "source": [
    "#Task A\n",
    "#Get number of loans application, compare the keys in dictionary of each account\n",
    "NumLoadApplication  =   len(json_data)\n",
    "print(f'Number of loans application is {NumLoadApplication}')\n",
    "\n",
    "#Compare keys in each account\n",
    "nominal_keys        =   set(json_data[0].keys())\n",
    "flag_identical      =   True\n",
    "for i in range(1, NumLoadApplication):\n",
    "    if set(json_data[i].keys()) != nominal_keys:\n",
    "        flag_identical  =   False\n",
    "        print(f'Account {i} has different keys!')\n",
    "\n",
    "if flag_identical:\n",
    "    print('All accounts has same keys')"
   ]
  },
  {
   "cell_type": "code",
   "execution_count": 29,
   "metadata": {},
   "outputs": [
    {
     "name": "stdout",
     "output_type": "stream",
     "text": [
      "hashvalue1 equals hashvalue2\n",
      "hashvalue1 does not equal hashvalue3\n"
     ]
    }
   ],
   "source": [
    "#Task B\n",
    "#Function to get hash value\n",
    "def GetHashOfAccount(data, account):\n",
    "    encoded_block = str(data[account]).encode()\n",
    "    hash_value = hs.sha256(encoded_block).hexdigest()\n",
    "    return hash_value\n",
    "\n",
    "#compare hashvalue for account 9 and 11\n",
    "hashvalue1  =   GetHashOfAccount(data=json_data, account=8)  #start from 0, 8 is the 9-th account\n",
    "hashvalue2  =   GetHashOfAccount(data=json_data, account=8)  #get hash value for account 9 again\n",
    "hashvalue3  =   GetHashOfAccount(data=json_data, account=10)\n",
    "\n",
    "if hashvalue1==hashvalue2:\n",
    "    print('hashvalue1 equals hashvalue2')\n",
    "else:\n",
    "    print('hashvalue1 does not equal hashvalue2')\n",
    "\n",
    "if hashvalue1==hashvalue3:\n",
    "    print('hashvalue1 equals hashvalue3')\n",
    "else:\n",
    "    print('hashvalue1 does not equal hashvalue3')"
   ]
  },
  {
   "cell_type": "code",
   "execution_count": 30,
   "metadata": {},
   "outputs": [],
   "source": [
    "#Task C\n",
    "#generate a block\n",
    "def creat_block(index, time, data, proof, pr_hash):\n",
    "    return {'block_index': index,\n",
    "            'transaction_timestamp': time, \n",
    "            'transaction_data': {data},\n",
    "            'proof_of_work': proof,\n",
    "            'previous_hash': pr_hash}\n",
    "\n",
    "#append block to a chain\n",
    "def create_chain(chain, block):\n",
    "    chain.append(block)\n",
    "\n",
    "#Get hash\n",
    "def GetHash(value):\n",
    "    encoded_block = str(value).encode()\n",
    "    hash_value = hs.sha256(encoded_block).hexdigest()\n",
    "    return hash_value\n",
    "\n",
    "#generate first block and append it to the chain\n",
    "chain   =   []\n",
    "create_chain(chain = chain, \n",
    "             block = creat_block(index = 1, \n",
    "                                 time  = dt.now().strftime(\"%Y-%m-%d %H:%M:%S.%f\"),\n",
    "                                 data  = \"This is the genesis block of account data access transactional record.\",\n",
    "                                 proof = 1,\n",
    "                                 pr_hash = GetHash(000)))\n"
   ]
  }
 ],
 "metadata": {
  "kernelspec": {
   "display_name": "base",
   "language": "python",
   "name": "python3"
  },
  "language_info": {
   "codemirror_mode": {
    "name": "ipython",
    "version": 3
   },
   "file_extension": ".py",
   "mimetype": "text/x-python",
   "name": "python",
   "nbconvert_exporter": "python",
   "pygments_lexer": "ipython3",
   "version": "3.9.12"
  }
 },
 "nbformat": 4,
 "nbformat_minor": 2
}
